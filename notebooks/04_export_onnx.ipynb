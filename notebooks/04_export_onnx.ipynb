{
 "cells": [
  {
   "cell_type": "code",
   "execution_count": 1,
   "metadata": {},
   "outputs": [],
   "source": [
    "import torch\n",
    "from torch import nn, optim\n",
    "import torchvision\n",
    "import torchvision.transforms as transforms\n",
    "\n",
    "from PIL import Image\n",
    "import matplotlib.pyplot as plt"
   ]
  },
  {
   "cell_type": "code",
   "execution_count": 2,
   "metadata": {},
   "outputs": [],
   "source": [
    "BEST_CAT_DOG_MODEL_A = \\\n",
    "    '../checkpoint/ckpt-a-20250314-092618-383242.pth'\n",
    "\n",
    "\n",
    "class CatDogModelA(nn.Module):\n",
    "\n",
    "    def __init__(self):\n",
    "        super(CatDogModelA, self).__init__()\n",
    "        self.net = torchvision.models.efficientnet_b0(weights=None)\n",
    "        for i in range(6):\n",
    "            for param in self.net.features[i].parameters():\n",
    "                param.requires_grad = False\n",
    "        self.net.classifier[1] = nn.Linear(\n",
    "            self.net.classifier[1].in_features, 2\n",
    "        )\n",
    "        self.softmax = nn.Softmax(dim=1)\n",
    "\n",
    "\n",
    "    def forward(self, x):\n",
    "        x = self.net(x)\n",
    "        x = self.softmax(x)\n",
    "        return x\n",
    "\n",
    "\n",
    "def load_model_from_checkpoint(checkpoint_path=BEST_CAT_DOG_MODEL_A, *, device):\n",
    "    model = CatDogModelA().to(device)\n",
    "    optimizer = optim.Adam(model.parameters(), lr=0.001)\n",
    "    load_model(model, optimizer, checkpoint_path)\n",
    "    return model, optimizer\n",
    "\n",
    "\n",
    "def load_model(model, optimizer, checkpoint_path):\n",
    "    checkpoint = torch.load(checkpoint_path, weights_only=True)\n",
    "    model.load_state_dict(checkpoint['model_state_dict'])\n",
    "    del checkpoint['model_state_dict']\n",
    "    optimizer.load_state_dict(checkpoint['optimizer_state_dict'])\n",
    "    del checkpoint['optimizer_state_dict']\n",
    "    # print('Model loaded:', checkpoint_path)\n",
    "    return checkpoint\n",
    "\n",
    "\n",
    "def get_transform():\n",
    "    return transforms.Compose([\n",
    "        transforms.Resize(256),\n",
    "        transforms.RandomCrop(224),\n",
    "        transforms.RandomHorizontalFlip(),\n",
    "        transforms.ToTensor(),\n",
    "        transforms.Normalize(\n",
    "            mean=[0.485, 0.456, 0.406],\n",
    "            std=[0.229, 0.224, 0.225]\n",
    "        ),\n",
    "    ])"
   ]
  },
  {
   "cell_type": "code",
   "execution_count": 3,
   "metadata": {},
   "outputs": [
    {
     "name": "stdout",
     "output_type": "stream",
     "text": [
      "Device: cuda\n"
     ]
    }
   ],
   "source": [
    "device = 'cuda' if torch.cuda.is_available() else 'cpu'\n",
    "print('Device:', device)"
   ]
  },
  {
   "cell_type": "code",
   "execution_count": 4,
   "metadata": {},
   "outputs": [
    {
     "name": "stdout",
     "output_type": "stream",
     "text": [
      "OK\n"
     ]
    }
   ],
   "source": [
    "model, _ = load_model_from_checkpoint(device=device)\n",
    "model.eval()\n",
    "print('OK')"
   ]
  },
  {
   "cell_type": "code",
   "execution_count": 5,
   "metadata": {},
   "outputs": [
    {
     "name": "stdout",
     "output_type": "stream",
     "text": [
      "torch.Size([1, 3, 224, 224])\n"
     ]
    }
   ],
   "source": [
    "transform = get_transform()\n",
    "\n",
    "image_path = '../images/may.jpg'\n",
    "with Image.open(image_path).convert('RGB') as image:\n",
    "    example_inputs = (torch.unsqueeze(transform(image), 0).to(device),)\n",
    "\n",
    "print(example_inputs[0].shape)"
   ]
  },
  {
   "cell_type": "code",
   "execution_count": 6,
   "metadata": {},
   "outputs": [],
   "source": [
    "(\n",
    "    torch.onnx.export(\n",
    "        model, example_inputs, '../checkpoint/catdog.onnx',\n",
    "        opset_version=17,\n",
    "        export_params=True,\n",
    "        do_constant_folding=True,\n",
    "        input_names=['images'],\n",
    "        output_names=['prob'],\n",
    "        dynamic_axes={'images': {0: 'batch'}, 'prob': {0: 'batch'}},\n",
    "        operator_export_type=torch.onnx.OperatorExportTypes.ONNX\n",
    "    )\n",
    ")"
   ]
  },
  {
   "cell_type": "code",
   "execution_count": 7,
   "metadata": {},
   "outputs": [],
   "source": [
    "image_path = '../images/may.jpg'\n",
    "with Image.open(image_path).convert('RGB') as image:\n",
    "    example_inputs = (torch.unsqueeze(transform(image), 0).to('cpu'),)\n",
    "(\n",
    "    torch.onnx.export(\n",
    "        model.to('cpu'), example_inputs, '../checkpoint/catdog-cpu.onnx',\n",
    "        opset_version=17,\n",
    "        export_params=True,\n",
    "        do_constant_folding=True,\n",
    "        input_names=['images'],\n",
    "        output_names=['prob'],\n",
    "        dynamic_axes={'images': {0: 'batch'}, 'prob': {0: 'batch'}},\n",
    "        operator_export_type=torch.onnx.OperatorExportTypes.ONNX\n",
    "    )\n",
    ")"
   ]
  }
 ],
 "metadata": {
  "kernelspec": {
   "display_name": "torch25",
   "language": "python",
   "name": "python3"
  },
  "language_info": {
   "codemirror_mode": {
    "name": "ipython",
    "version": 3
   },
   "file_extension": ".py",
   "mimetype": "text/x-python",
   "name": "python",
   "nbconvert_exporter": "python",
   "pygments_lexer": "ipython3",
   "version": "3.10.11"
  }
 },
 "nbformat": 4,
 "nbformat_minor": 2
}
